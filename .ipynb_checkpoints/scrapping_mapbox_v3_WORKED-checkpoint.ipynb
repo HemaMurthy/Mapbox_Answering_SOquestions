{
 "cells": [
  {
   "cell_type": "code",
   "execution_count": 1,
   "metadata": {},
   "outputs": [],
   "source": [
    "from bs4 import BeautifulSoup\n",
    "import urllib.request "
   ]
  },
  {
   "cell_type": "code",
   "execution_count": 2,
   "metadata": {},
   "outputs": [],
   "source": [
    "url=\"https://docs.mapbox.com/android/navigation/overview/\"\n",
    "\n",
    "#set the page you want to open for parsing\n",
    "page = urllib.request.urlopen('https://docs.mapbox.com/android/navigation/overview/')\n",
    "\n",
    "#downloading the contents of the page\n",
    "raw_html=page.read()\n",
    "\n",
    "#creating a soup from the raw html\n",
    "html = BeautifulSoup(raw_html, 'html.parser')"
   ]
  },
  {
   "cell_type": "code",
   "execution_count": 3,
   "metadata": {},
   "outputs": [
    {
     "data": {
      "text/plain": [
       "<span class=\"color-gray-light ml6\"><svg class=\"events-none icon inline-block align-t\" focusable=\"false\" role=\"presentation\" style=\"width:18px;height:18px\"><use xlink:href=\"#icon-chevron-down\" xmlns:xlink=\"http://www.w3.org/1999/xlink\"></use></svg></span>"
      ]
     },
     "execution_count": 3,
     "metadata": {},
     "output_type": "execute_result"
    }
   ],
   "source": [
    "#title of the html page\n",
    "html.title\n",
    "\n",
    "#text in the page\n",
    "html.p\n",
    "\n",
    "#body of the page\n",
    "html.body\n",
    "\n",
    "#span of the page\n",
    "html.span"
   ]
  },
  {
   "cell_type": "markdown",
   "metadata": {},
   "source": [
    "you need to inspect the html page and figure out what tags are of interest "
   ]
  },
  {
   "cell_type": "code",
   "execution_count": 4,
   "metadata": {},
   "outputs": [
    {
     "name": "stdout",
     "output_type": "stream",
     "text": [
      "\n",
      "Heading 2\n",
      "\n",
      "Available SDKs\n",
      "Product capabilities\n",
      "Installation\n",
      "Prevent memory leaks\n",
      "Testing and development\n",
      "========================================\n",
      "Heading 3\n",
      "\n",
      "Navigation SDK\n",
      "Navigation UI SDK\n",
      "Replay a DirectionsRoute\n",
      "Turn on debug logging\n"
     ]
    }
   ],
   "source": [
    "#finding the class prose which contains all the text info\n",
    "content=html.find('div',{\"id\":\"docs-content\"})\n",
    "h2=[]\n",
    "\n",
    "#making a list of all heading, dont know why!\n",
    "print('\\nHeading 2\\n')\n",
    "for section in content.findAll('h2'):\n",
    "    print(section.text)\n",
    "    h2.append(section.text)\n",
    "print('='*40) \n",
    "\n",
    "#and sub headings too, again, dont know why!\n",
    "print('Heading 3\\n') \n",
    "for section in content.findAll('h3'):\n",
    "    print(section.text)\n",
    "    #print('='*40) "
   ]
  },
  {
   "cell_type": "code",
   "execution_count": null,
   "metadata": {},
   "outputs": [],
   "source": [
    "def check_for_sub_sub_section(section):\n",
    "    "
   ]
  },
  {
   "cell_type": "code",
   "execution_count": 14,
   "metadata": {},
   "outputs": [
    {
     "name": "stdout",
     "output_type": "stream",
     "text": [
      "Title:  Available SDKs\n",
      "Link:  https://docs.mapbox.com/android/navigation/overview/#available-sdks\n",
      "There are two SDKs that can be used to integrate navigation into your Android application, the core Navigation SDK and the Navigation UI SDK:The core Navigation SDK is where the logic lives for generating routes, tracking progress, receiving instructions, and more. You can use this directly via the MapboxNavigation class or through the Navigation UI SDK.Built on top of the core Navigation SDK (meaning the Navigation SDK is included when you add the Navigation UI SDK as a dependency), the Navigation UI SDK consumes data from the core SDK and arranges it in default UI components that have various customization options. You can use this directly via the NavigationView and NavigationLauncher classes without touching the core MapboxNavigation class directly in your application's code.The core Navigation SDK and the Navigation UI SDK can be used together if you want to use a mixture of the Mapbox-provided UI components and your own custom UI fed data from the core Navigation SDK.\n",
      "========================================\n",
      "None\n",
      "Title:  Product capabilities\n",
      "Link:  https://docs.mapbox.com/android/navigation/overview/#product-capabilities\n",
      "This documentation contains information for both the core Navigation SDK and the Navigation UI SDK across a variety of topics:Manage user locationUser location FundamentalsBuild route requestsRoute generation FundamentalsOffline routingCustom routesTrack progress along a routeRoute progress FundamentalsManeuver instructionsDevice notificationsOff-route detectionFaster-route detectionCustomize the visual experienceMap cameraLocalization and internationalizationMap and app stylingUser interaction\n",
      "========================================\n",
      "None\n",
      "Title:  Installation\n",
      "Link:  https://docs.mapbox.com/android/navigation/overview/#installation\n",
      "You'll need to add the Navigation SDK or Navigation UI SDK as a dependency before developing your app.Using nightly builds and beta versionsYou can also use the nightly build/SNAPSHOT or the beta version if one is available. Find more information about how to do this inside the Navigation SDK's GitHub repository.\n",
      "========================================\n",
      "<div class=\"section section-h3 \"><h3 id=\"navigation-sdk\"><a class=\"unprose color-blue-on-hover\" href=\"#navigation-sdk\">Navigation SDK</a></h3><div class=\"body \"><p>Learn how to install the core Navigation SDK and request your first route using <code>NavigationRoute</code>.</p><h4 id=\"add-the-dependency\"><a class=\"unprose color-blue-on-hover\" href=\"#add-the-dependency\">Add the dependency</a></h4><div class=\"flex-parent flex-parent--row mb18\" style=\"padding:18px;font-size:13px;line-height:20px;border-radius:4px;background:#f1faff;color:#587594\"><div class=\"flex-child mr12\"><svg height=\"60\" viewbox=\"0 0 108 108\" width=\"60\"><circle cx=\"53\" cy=\"55\" fill=\"#47b9f3\" r=\"45\"></circle><rect fill=\"#1274c6\" height=\"34.501\" rx=\"5.219\" ry=\"5.219\" transform=\"rotate(.605 53.4 58.455)\" width=\"52.254\" x=\"27.273\" y=\"41.204\"></rect><path d=\"M64.1 34.848s-9.912-.76-10.008 8.42-.093 24.736-.093 24.736S58.822 64.96 62.79 65l15.404.163A1.788 1.788 0 0 0 80 63.393l.281-26.601A1.773 1.773 0 0 0 78.527 35z\" fill=\"#309ef9\"></path><path d=\"M43.971 34.157s10.21-.563 10.11 8.821S53.998 68 53.998 68s-5.25-2.957-9.331-3L28.78 64.83A1.786 1.786 0 0 1 27 63.04l.288-27.286A1.786 1.786 0 0 1 29.106 34z\" fill=\"#0d84fd\"></path></svg></div><div class=\"flex-child\"><div class=\"txt-bold txt-m mb6\">Add the core Navigation SDK only when not using the Navigation UI SDK</div><p>If you're using the Navigation UI SDK, you <strong>don't</strong> have to declare the Mapbox Navigation SDK as well. If you only declare the Navigation UI SDK in your project's Gradle file, the Mapbox Navigation SDK will automatically be included.</p></div></div><ol><li>Start Android Studio.</li><li>Open up your app's <code>build.gradle</code> file.</li><li>Make sure that your project's <code>minSdkVersion</code> is at API 14 or higher.</li><li>Under dependencies, add a new build rule for the latest <code>mapbox-android-navigation</code>.</li><li>Click the <code>Sync Project with Gradle Files</code> near the toolbar in Studio.</li></ol><pre class=\"language-groovy\"><code class=\"language-groovy\">allprojects <span class=\"token punctuation\">{</span>\n",
      "<!-- -->    <!-- -->repositories <span class=\"token punctuation\">{</span>\n",
      "<!-- -->        <span class=\"token punctuation\">...</span>\n",
      "<!-- -->        <!-- -->maven <span class=\"token punctuation\">{</span> url <span class=\"token string\">'https://mapbox.bintray.com/mapbox'</span> <span class=\"token punctuation\">}</span>\n",
      "<!-- -->    <span class=\"token punctuation\">}</span>\n",
      "<span class=\"token punctuation\">}</span>\n",
      "<!-- -->\n",
      "<!-- -->dependencies <span class=\"token punctuation\">{</span>\n",
      "<!-- -->  <!-- -->implementation <span class=\"token string\">'com.mapbox.mapboxsdk:mapbox-android-navigation:<!-- -->0.42.1<!-- -->'</span>\n",
      "<span class=\"token punctuation\">}</span>\n",
      "</code></pre><h4 id=\"get-an-access-token\"><a class=\"unprose color-blue-on-hover\" href=\"#get-an-access-token\">Get an access token</a></h4><p>If you don't have a Mapbox account: <a href=\"https://www.mapbox.com/signup/\">sign up</a> and navigate to your <a href=\"https://www.mapbox.com/account/\">Account page</a>. For quick development and testing, you can use your <strong>default public token</strong>. Later in development, you may want to create an access token specifically for this project. Find more details on managing access tokens in our guide on <a href=\"https://docs.mapbox.com/help/how-mapbox-works/access-tokens/\">how access tokens work</a>.</p><p>After you've added the Navigation SDK as a dependency inside your Android project, open the <code>string.xml</code> file, create a new string, and paste the access token. Then, pass this into the Navigation SDK.</p><div class=\"my24 prose\"><div class=\"my24\"><div class=\"flex-parent-mm flex-parent--space-between-main-mm mb6\"><div class=\"flex-child\"><div class=\"inline-block txt-bold mb6 color-gray-dark\"></div></div><div class=\"flex-child\"><div class=\"relative \"><fieldset><div aria-required=\"true\" class=\"toggle-group round-full bg-blue py3 px3\" data-test=\"access-token-input\" id=\"access-token\" role=\"radiogroup\"><label class=\"toggle-container \"><input checked=\"\" name=\"access-token\" type=\"radio\" value=\"java\"/><div class=\"txt-s py3 toggle--white toggle--active-blue toggle\">Java</div></label><label class=\"toggle-container \"><input name=\"access-token\" type=\"radio\" value=\"kotlin\"/><div class=\"txt-s py3 toggle--white toggle--active-blue toggle\">Kotlin</div></label></div></fieldset><div role=\"alert\"></div></div></div></div><div class=\"relative round z0 scroll-styled\"><pre><code class=\"px0 hljs\"><div class=\"relative z2\" data-chunk-code=\"chunk-0\"><div class=\"pr12\" style=\"padding-left:12px\"><div style=\"text-indent:-14.45px;margin-left:14.45px\"><span class=\"token annotation punctuation\">@Override</span></div></div><div class=\"pr12\" style=\"padding-left:12px\"><div style=\"text-indent:-14.45px;margin-left:14.45px\"><span class=\"token keyword\">protected</span> <span class=\"token keyword\">void</span> <span class=\"token function\">onCreate</span><span class=\"token punctuation\">(</span>Bundle savedInstanceState<span class=\"token punctuation\">)</span> <span class=\"token punctuation\">{</span></div></div><div class=\"pr12\" style=\"padding-left:26.45px\"><div style=\"text-indent:-14.45px;margin-left:14.45px\"><span class=\"token keyword\">super</span><span class=\"token punctuation\">.</span><span class=\"token function\">onCreate</span><span class=\"token punctuation\">(</span>savedInstanceState<span class=\"token punctuation\">)</span><span class=\"token punctuation\">;</span></div></div><div class=\"pr12\" style=\"padding-left:12px\"><div style=\"text-indent:-14.45px;margin-left:14.45px\"> </div></div><div class=\"pr12\" style=\"padding-left:26.45px\"><div style=\"text-indent:-14.45px;margin-left:14.45px\">MapboxNavigation navigation <span class=\"token operator\">=</span> <span class=\"token keyword\">new</span> <span class=\"token class-name\">MapboxNavigation</span><span class=\"token punctuation\">(</span>context<span class=\"token punctuation\">,</span> MAPBOX_ACCESS_TOKEN<span class=\"token punctuation\">)</span><span class=\"token punctuation\">;</span></div></div><div class=\"pr12\" style=\"padding-left:12px\"><div style=\"text-indent:-14.45px;margin-left:14.45px\"> </div></div><div class=\"pr12\" style=\"padding-left:26.45px\"><div style=\"text-indent:-14.45px;margin-left:14.45px\"><span class=\"token punctuation\">.</span><span class=\"token punctuation\">.</span><span class=\"token punctuation\">.</span></div></div><div class=\"pr12\" style=\"padding-left:12px\"><div style=\"text-indent:-14.45px;margin-left:14.45px\"> </div></div><div class=\"pr12\" style=\"padding-left:12px\"><div style=\"text-indent:-14.45px;margin-left:14.45px\"><span class=\"token punctuation\">}</span></div></div></div></code></pre><div class=\"absolute z2 top right mr6 mt6 color-white\"><div class=\"inline-block\"><button class=\"btn btn--xs py3 px3 round\" data-clipboard-text=\"\n",
      "@Override\n",
      "protected void onCreate(Bundle savedInstanceState) {\n",
      "  super.onCreate(savedInstanceState);\n",
      "\n",
      "  MapboxNavigation navigation = new MapboxNavigation(context, MAPBOX_ACCESS_TOKEN);\n",
      "\n",
      "  ...\n",
      "\n",
      "}\n",
      "\" type=\"button\"><svg class=\"events-none icon\" focusable=\"false\" role=\"presentation\" style=\"width:18px;height:18px\"><use xlink:href=\"#icon-clipboard\" xmlns:xlink=\"http://www.w3.org/1999/xlink\"></use></svg></button><div class=\"hide-visually\" role=\"tooltip\"><div class=\"txt-s wmax240\">Copy</div></div></div></div></div></div></div><h4 id=\"set-up-permissions\"><a class=\"unprose color-blue-on-hover\" href=\"#set-up-permissions\">Set up permissions</a></h4><p>The Navigation SDK makes use of the Android manifest merge feature to reduce the need to include any Navigation SDK requirements inside your application's manifest file. You'll need to include either the fine or coarse location permission for navigation to work properly. The user location permission should also be checked during runtime using the <code>PermissionsManager</code> if your app targets the Android API 23 or higher.</p><p>For optimal navigation results, use the fine location permission, which gives a more precise fix on the user's current location.</p><pre class=\"language-xml\"><code class=\"language-xml\"><span class=\"token tag\"><span class=\"token tag\"><span class=\"token punctuation\">&lt;</span>uses-permission</span> <span class=\"token attr-name\"><span class=\"token namespace\">android:</span>name</span><span class=\"token attr-value\"><span class=\"token punctuation\">=</span><span class=\"token punctuation\">\"</span>android.permission.ACCESS_FINE_LOCATION<span class=\"token punctuation\">\"</span></span> <span class=\"token punctuation\">/&gt;</span></span>\n",
      "</code></pre><h4 id=\"request-a-route\"><a class=\"unprose color-blue-on-hover\" href=\"#request-a-route\">Request a route</a></h4><p>Now that you have created a way for the <code>MapboxNavigation</code> object to get the user's location, you can create a route using <code>NavigationRoute</code>. Pass in an origin, destination, and a callback to handle the response. Inside the <code>onResponse</code>, you can draw the directions route on a map or show time and distance using the full directions response.</p><div class=\"flex-parent flex-parent--row mb18\" style=\"padding:18px;font-size:13px;line-height:20px;border-radius:4px;background:#f1faff;color:#587594\"><div class=\"flex-child mr12\"><svg height=\"60\" viewbox=\"0 0 108 108\" width=\"60\"><circle cx=\"53\" cy=\"55\" fill=\"#47b9f3\" r=\"45\"></circle><rect fill=\"#1274c6\" height=\"34.501\" rx=\"5.219\" ry=\"5.219\" transform=\"rotate(.605 53.4 58.455)\" width=\"52.254\" x=\"27.273\" y=\"41.204\"></rect><path d=\"M64.1 34.848s-9.912-.76-10.008 8.42-.093 24.736-.093 24.736S58.822 64.96 62.79 65l15.404.163A1.788 1.788 0 0 0 80 63.393l.281-26.601A1.773 1.773 0 0 0 78.527 35z\" fill=\"#309ef9\"></path><path d=\"M43.971 34.157s10.21-.563 10.11 8.821S53.998 68 53.998 68s-5.25-2.957-9.331-3L28.78 64.83A1.786 1.786 0 0 1 27 63.04l.288-27.286A1.786 1.786 0 0 1 29.106 34z\" fill=\"#0d84fd\"></path></svg></div><div class=\"flex-child\"><div class=\"txt-bold txt-m mb6\">More about route generation</div><p>Find more detailed information about requesting routes in the <a href=\"/android/navigation/overview/route-generation/\">Route generation</a> guide.</p></div></div><div class=\"my24 prose\"><div class=\"my24\"><div class=\"flex-parent-mm flex-parent--space-between-main-mm mb6\"><div class=\"flex-child\"><div class=\"inline-block txt-bold mb6 color-gray-dark\"></div></div><div class=\"flex-child\"><div class=\"relative \"><fieldset><div aria-required=\"true\" class=\"toggle-group round-full bg-blue py3 px3\" data-test=\"route-request-input\" id=\"route-request\" role=\"radiogroup\"><label class=\"toggle-container \"><input checked=\"\" name=\"route-request\" type=\"radio\" value=\"java\"/><div class=\"txt-s py3 toggle--white toggle--active-blue toggle\">Java</div></label><label class=\"toggle-container \"><input name=\"route-request\" type=\"radio\" value=\"kotlin\"/><div class=\"txt-s py3 toggle--white toggle--active-blue toggle\">Kotlin</div></label></div></fieldset><div role=\"alert\"></div></div></div></div><div class=\"relative round z0 scroll-styled\"><pre><code class=\"px0 hljs\"><div class=\"relative z2\" data-chunk-code=\"chunk-0\"><div class=\"pr12\" style=\"padding-left:12px\"><div style=\"text-indent:-14.45px;margin-left:14.45px\"><span class=\"token comment\">// From Mapbox to The White House</span></div></div><div class=\"pr12\" style=\"padding-left:12px\"><div style=\"text-indent:-14.45px;margin-left:14.45px\">Point origin <span class=\"token operator\">=</span> Point<span class=\"token punctuation\">.</span><span class=\"token function\">fromLngLat</span><span class=\"token punctuation\">(</span><span class=\"token operator\">-</span><span class=\"token number\">77.03613</span><span class=\"token punctuation\">,</span> <span class=\"token number\">38.90992</span><span class=\"token punctuation\">)</span><span class=\"token punctuation\">;</span></div></div><div class=\"pr12\" style=\"padding-left:12px\"><div style=\"text-indent:-14.45px;margin-left:14.45px\">Point destination <span class=\"token operator\">=</span> Point<span class=\"token punctuation\">.</span><span class=\"token function\">fromLngLat</span><span class=\"token punctuation\">(</span><span class=\"token operator\">-</span><span class=\"token number\">77.0365</span><span class=\"token punctuation\">,</span> <span class=\"token number\">38.8977</span><span class=\"token punctuation\">)</span><span class=\"token punctuation\">;</span></div></div><div class=\"pr12\" style=\"padding-left:12px\"><div style=\"text-indent:-14.45px;margin-left:14.45px\"> </div></div><div class=\"pr12\" style=\"padding-left:12px\"><div style=\"text-indent:-14.45px;margin-left:14.45px\">NavigationRoute<span class=\"token punctuation\">.</span><span class=\"token function\">builder</span><span class=\"token punctuation\">(</span>context<span class=\"token punctuation\">)</span></div></div><div class=\"pr12\" style=\"padding-left:12px\"><div style=\"text-indent:-14.45px;margin-left:14.45px\">\t<span class=\"token punctuation\">.</span><span class=\"token function\">accessToken</span><span class=\"token punctuation\">(</span>MAPBOX_ACCESS_TOKEN<span class=\"token punctuation\">)</span></div></div><div class=\"pr12\" style=\"padding-left:12px\"><div style=\"text-indent:-14.45px;margin-left:14.45px\">\t<span class=\"token punctuation\">.</span><span class=\"token function\">origin</span><span class=\"token punctuation\">(</span>origin<span class=\"token punctuation\">)</span></div></div><div class=\"pr12\" style=\"padding-left:12px\"><div style=\"text-indent:-14.45px;margin-left:14.45px\">\t<span class=\"token punctuation\">.</span><span class=\"token function\">destination</span><span class=\"token punctuation\">(</span>destination<span class=\"token punctuation\">)</span></div></div><div class=\"pr12\" style=\"padding-left:12px\"><div style=\"text-indent:-14.45px;margin-left:14.45px\">\t<span class=\"token punctuation\">.</span><span class=\"token function\">build</span><span class=\"token punctuation\">(</span><span class=\"token punctuation\">)</span></div></div><div class=\"pr12\" style=\"padding-left:12px\"><div style=\"text-indent:-14.45px;margin-left:14.45px\">\t<span class=\"token punctuation\">.</span><span class=\"token function\">getRoute</span><span class=\"token punctuation\">(</span><span class=\"token keyword\">new</span> <span class=\"token class-name\">Callback</span><span class=\"token generics function\"><span class=\"token punctuation\">&lt;</span>DirectionsResponse<span class=\"token punctuation\">&gt;</span></span><span class=\"token punctuation\">(</span><span class=\"token punctuation\">)</span> <span class=\"token punctuation\">{</span></div></div><div class=\"pr12\" style=\"padding-left:12px\"><div style=\"text-indent:-14.45px;margin-left:14.45px\">\t\t<span class=\"token annotation punctuation\">@Override</span></div></div><div class=\"pr12\" style=\"padding-left:12px\"><div style=\"text-indent:-14.45px;margin-left:14.45px\">\t\t<span class=\"token keyword\">public</span> <span class=\"token keyword\">void</span> <span class=\"token function\">onResponse</span><span class=\"token punctuation\">(</span>Call<span class=\"token generics function\"><span class=\"token punctuation\">&lt;</span>DirectionsResponse<span class=\"token punctuation\">&gt;</span></span> call<span class=\"token punctuation\">,</span> Response<span class=\"token generics function\"><span class=\"token punctuation\">&lt;</span>DirectionsResponse<span class=\"token punctuation\">&gt;</span></span> response<span class=\"token punctuation\">)</span> <span class=\"token punctuation\">{</span></div></div><div class=\"pr12\" style=\"padding-left:12px\"><div style=\"text-indent:-14.45px;margin-left:14.45px\"> </div></div><div class=\"pr12\" style=\"padding-left:12px\"><div style=\"text-indent:-14.45px;margin-left:14.45px\">\t\t<span class=\"token punctuation\">}</span></div></div><div class=\"pr12\" style=\"padding-left:12px\"><div style=\"text-indent:-14.45px;margin-left:14.45px\"> </div></div><div class=\"pr12\" style=\"padding-left:12px\"><div style=\"text-indent:-14.45px;margin-left:14.45px\">\t\t<span class=\"token annotation punctuation\">@Override</span></div></div><div class=\"pr12\" style=\"padding-left:12px\"><div style=\"text-indent:-14.45px;margin-left:14.45px\">\t\t<span class=\"token keyword\">public</span> <span class=\"token keyword\">void</span> <span class=\"token function\">onFailure</span><span class=\"token punctuation\">(</span>Call<span class=\"token generics function\"><span class=\"token punctuation\">&lt;</span>DirectionsResponse<span class=\"token punctuation\">&gt;</span></span> call<span class=\"token punctuation\">,</span> Throwable t<span class=\"token punctuation\">)</span> <span class=\"token punctuation\">{</span></div></div><div class=\"pr12\" style=\"padding-left:12px\"><div style=\"text-indent:-14.45px;margin-left:14.45px\"> </div></div><div class=\"pr12\" style=\"padding-left:12px\"><div style=\"text-indent:-14.45px;margin-left:14.45px\">\t\t<span class=\"token punctuation\">}</span></div></div><div class=\"pr12\" style=\"padding-left:12px\"><div style=\"text-indent:-14.45px;margin-left:14.45px\">\t<span class=\"token punctuation\">}</span><span class=\"token punctuation\">)</span><span class=\"token punctuation\">;</span></div></div></div></code></pre><div class=\"absolute z2 top right mr6 mt6 color-white\"><div class=\"inline-block\"><button class=\"btn btn--xs py3 px3 round\" data-clipboard-text=\"\n",
      "// From Mapbox to The White House\n",
      "Point origin = Point.fromLngLat(-77.03613, 38.90992);\n",
      "Point destination = Point.fromLngLat(-77.0365, 38.8977);\n",
      "\n",
      "NavigationRoute.builder(context)\n",
      "\t.accessToken(MAPBOX_ACCESS_TOKEN)\n",
      "\t.origin(origin)\n",
      "\t.destination(destination)\n",
      "\t.build()\n",
      "\t.getRoute(new Callback&lt;DirectionsResponse&gt;() {\n",
      "\t\t@Override\n",
      "\t\tpublic void onResponse(Call&lt;DirectionsResponse&gt; call, Response&lt;DirectionsResponse&gt; response) {\n",
      "\n",
      "\t\t}\n",
      "\n",
      "\t\t@Override\n",
      "\t\tpublic void onFailure(Call&lt;DirectionsResponse&gt; call, Throwable t) {\n",
      "\n",
      "\t\t}\n",
      "\t});\n",
      "\" type=\"button\"><svg class=\"events-none icon\" focusable=\"false\" role=\"presentation\" style=\"width:18px;height:18px\"><use xlink:href=\"#icon-clipboard\" xmlns:xlink=\"http://www.w3.org/1999/xlink\"></use></svg></button><div class=\"hide-visually\" role=\"tooltip\"><div class=\"txt-s wmax240\">Copy</div></div></div></div></div></div></div></div></div>\n",
      "Title:  Prevent memory leaks\n",
      "Link:  https://docs.mapbox.com/android/navigation/overview/#prevent-memory-leaks\n",
      "Regardless of which SDK you are using, you should override the onDestroy lifecycle method, end the navigation session (if it's running), and use the MabpoxNavigation#onDestroy method inside your application's activity. Doing this prevents any memory leaks and ensures proper shutdown of the service.JavaKotlin@Overrideprotected void onDestroy() {super.onDestroy();// End the navigation sessionnavigation.onDestroy();}Copy\n",
      "========================================\n",
      "None\n",
      "Title:  Testing and development\n",
      "Link:  https://docs.mapbox.com/android/navigation/overview/#testing-and-development\n",
      "There are a few methods that can be helpful when developing and testing your application.\n",
      "========================================\n",
      "<div class=\"section section-h3 \"><h3 id=\"replay-a-directionsroute\"><a class=\"unprose color-blue-on-hover\" href=\"#replay-a-directionsroute\">Replay a <code>DirectionsRoute</code></a></h3><div class=\"body \"><p>The Navigation SDK includes a <code>ReplayRouteLocationEngine</code>, which allows you to replay a given <code>DirectionsRoute</code> (mainly for testing, so you don't always have to code in a car). After retrieving a <code>DirectionsRoute</code>, you can create a replay engine and pass it to <code>MapboxNavigation</code>.</p><div class=\"my24 prose\"><div class=\"my24\"><div class=\"flex-parent-mm flex-parent--space-between-main-mm mb6\"><div class=\"flex-child\"><div class=\"inline-block txt-bold mb6 color-gray-dark\"></div></div><div class=\"flex-child\"><div class=\"relative \"><fieldset><div aria-required=\"true\" class=\"toggle-group round-full bg-blue py3 px3\" data-test=\"nav-replay-engine-input\" id=\"nav-replay-engine\" role=\"radiogroup\"><label class=\"toggle-container \"><input checked=\"\" name=\"nav-replay-engine\" type=\"radio\" value=\"java\"/><div class=\"txt-s py3 toggle--white toggle--active-blue toggle\">Java</div></label><label class=\"toggle-container \"><input name=\"nav-replay-engine\" type=\"radio\" value=\"kotlin\"/><div class=\"txt-s py3 toggle--white toggle--active-blue toggle\">Kotlin</div></label></div></fieldset><div role=\"alert\"></div></div></div></div><div class=\"relative round z0 scroll-styled\"><pre><code class=\"px0 hljs\"><div class=\"relative z2\" data-chunk-code=\"chunk-0\"><div class=\"pr12\" style=\"padding-left:12px\"><div style=\"text-indent:-14.45px;margin-left:14.45px\">MapboxNavigation navigation <span class=\"token operator\">=</span> <span class=\"token punctuation\">.</span><span class=\"token punctuation\">.</span><span class=\"token punctuation\">.</span></div></div><div class=\"pr12\" style=\"padding-left:12px\"><div style=\"text-indent:-14.45px;margin-left:14.45px\">DirectionsRoute routeToReplay <span class=\"token operator\">=</span> <span class=\"token punctuation\">.</span><span class=\"token punctuation\">.</span><span class=\"token punctuation\">.</span></div></div><div class=\"pr12\" style=\"padding-left:12px\"><div style=\"text-indent:-14.45px;margin-left:14.45px\"> </div></div><div class=\"pr12\" style=\"padding-left:12px\"><div style=\"text-indent:-14.45px;margin-left:14.45px\">ReplayRouteLocationEngine replayEngine <span class=\"token operator\">=</span> <span class=\"token keyword\">new</span> <span class=\"token class-name\">ReplayRouteLocationEngine</span><span class=\"token punctuation\">(</span><span class=\"token punctuation\">)</span><span class=\"token punctuation\">;</span></div></div><div class=\"pr12\" style=\"padding-left:12px\"><div style=\"text-indent:-14.45px;margin-left:14.45px\">replayEngine<span class=\"token punctuation\">.</span><span class=\"token function\">assign</span><span class=\"token punctuation\">(</span>routeToReplay<span class=\"token punctuation\">)</span><span class=\"token punctuation\">;</span></div></div><div class=\"pr12\" style=\"padding-left:12px\"><div style=\"text-indent:-14.45px;margin-left:14.45px\"> </div></div><div class=\"pr12\" style=\"padding-left:12px\"><div style=\"text-indent:-14.45px;margin-left:14.45px\">navigation<span class=\"token punctuation\">.</span><span class=\"token function\">setLocationEngine</span><span class=\"token punctuation\">(</span>replayEngine<span class=\"token punctuation\">)</span><span class=\"token punctuation\">;</span></div></div><div class=\"pr12\" style=\"padding-left:12px\"><div style=\"text-indent:-14.45px;margin-left:14.45px\">navigation<span class=\"token punctuation\">.</span><span class=\"token function\">startNavigation</span><span class=\"token punctuation\">(</span>routeToReplay<span class=\"token punctuation\">)</span><span class=\"token punctuation\">;</span></div></div></div></code></pre><div class=\"absolute z2 top right mr6 mt6 color-white\"><div class=\"inline-block\"><button class=\"btn btn--xs py3 px3 round\" data-clipboard-text=\"\n",
      "MapboxNavigation navigation = ...\n",
      "DirectionsRoute routeToReplay = ...\n",
      "\n",
      "ReplayRouteLocationEngine replayEngine = new ReplayRouteLocationEngine();\n",
      "replayEngine.assign(routeToReplay);\n",
      "\n",
      "navigation.setLocationEngine(replayEngine);\n",
      "navigation.startNavigation(routeToReplay);\n",
      "\" type=\"button\"><svg class=\"events-none icon\" focusable=\"false\" role=\"presentation\" style=\"width:18px;height:18px\"><use xlink:href=\"#icon-clipboard\" xmlns:xlink=\"http://www.w3.org/1999/xlink\"></use></svg></button><div class=\"hide-visually\" role=\"tooltip\"><div class=\"txt-s wmax240\">Copy</div></div></div></div></div></div></div></div></div>\n"
     ]
    }
   ],
   "source": [
    "def get_link(link):\n",
    "    dirt,link=str(link).split(\"href=\\\"\")\n",
    "    link,dirt=link.split(\"\\\"\")\n",
    "    result=url+link\n",
    "    return result\n",
    "\n",
    "#class container, what i think has all the good stuff\n",
    "container = html.findAll('div',{\"class\":\"section section-h2 \"})\n",
    " \n",
    "for section in container:\n",
    "    #printing title of each section\n",
    "    print(\"Title: \",section.h2.string) \n",
    "    #finding the link assosciated with the section\n",
    "    link=get_link(section.a)\n",
    "    print('Link: ',link)\n",
    "    #finding body of that section\n",
    "    sub_section=section.find('div',{\"class\":\"section section-h3\"})\n",
    "    print(sub_section.text)\n",
    "    #check_for_sub_sub_section\n",
    "    print('='*40)\n",
    "    \n",
    "sub_sub_section=section.find('div',{\"class\":\"section section-h3 \"})\n"
   ]
  },
  {
   "cell_type": "code",
   "execution_count": 107,
   "metadata": {},
   "outputs": [
    {
     "data": {
      "text/html": [
       "<div>\n",
       "<style scoped>\n",
       "    .dataframe tbody tr th:only-of-type {\n",
       "        vertical-align: middle;\n",
       "    }\n",
       "\n",
       "    .dataframe tbody tr th {\n",
       "        vertical-align: top;\n",
       "    }\n",
       "\n",
       "    .dataframe thead th {\n",
       "        text-align: right;\n",
       "    }\n",
       "</style>\n",
       "<table border=\"1\" class=\"dataframe\">\n",
       "  <thead>\n",
       "    <tr style=\"text-align: right;\">\n",
       "      <th></th>\n",
       "      <th>body</th>\n",
       "      <th>link</th>\n",
       "      <th>title</th>\n",
       "    </tr>\n",
       "  </thead>\n",
       "  <tbody>\n",
       "    <tr>\n",
       "      <th>0</th>\n",
       "      <td>There are two SDKs that can be used to integra...</td>\n",
       "      <td>https://docs.mapbox.com/android/navigation/ove...</td>\n",
       "      <td>Available SDKs</td>\n",
       "    </tr>\n",
       "    <tr>\n",
       "      <th>1</th>\n",
       "      <td>This documentation contains information for bo...</td>\n",
       "      <td>https://docs.mapbox.com/android/navigation/ove...</td>\n",
       "      <td>Product capabilities</td>\n",
       "    </tr>\n",
       "    <tr>\n",
       "      <th>2</th>\n",
       "      <td>You'll need to add the Navigation SDK or Navig...</td>\n",
       "      <td>https://docs.mapbox.com/android/navigation/ove...</td>\n",
       "      <td>Installation</td>\n",
       "    </tr>\n",
       "    <tr>\n",
       "      <th>3</th>\n",
       "      <td>Regardless of which SDK you are using, you sho...</td>\n",
       "      <td>https://docs.mapbox.com/android/navigation/ove...</td>\n",
       "      <td>Prevent memory leaks</td>\n",
       "    </tr>\n",
       "    <tr>\n",
       "      <th>4</th>\n",
       "      <td>There are a few methods that can be helpful wh...</td>\n",
       "      <td>https://docs.mapbox.com/android/navigation/ove...</td>\n",
       "      <td>Testing and development</td>\n",
       "    </tr>\n",
       "  </tbody>\n",
       "</table>\n",
       "</div>"
      ],
      "text/plain": [
       "                                                body  \\\n",
       "0  There are two SDKs that can be used to integra...   \n",
       "1  This documentation contains information for bo...   \n",
       "2  You'll need to add the Navigation SDK or Navig...   \n",
       "3  Regardless of which SDK you are using, you sho...   \n",
       "4  There are a few methods that can be helpful wh...   \n",
       "\n",
       "                                                link                    title  \n",
       "0  https://docs.mapbox.com/android/navigation/ove...           Available SDKs  \n",
       "1  https://docs.mapbox.com/android/navigation/ove...     Product capabilities  \n",
       "2  https://docs.mapbox.com/android/navigation/ove...             Installation  \n",
       "3  https://docs.mapbox.com/android/navigation/ove...     Prevent memory leaks  \n",
       "4  https://docs.mapbox.com/android/navigation/ove...  Testing and development  "
      ]
     },
     "execution_count": 107,
     "metadata": {},
     "output_type": "execute_result"
    }
   ],
   "source": [
    "import pandas as pd\n",
    "#make csv file\n",
    "title=[]\n",
    "link=[]\n",
    "body=[]\n",
    "\n",
    "for section in container:\n",
    "    title.append(section.h2.string) \n",
    "    link.append(get_link(section.a))\n",
    "    body.append(section.find('div',{\"class\":\"section section-h3\"}).text)\n",
    "\n",
    "df=pd.DataFrame({\n",
    "    \"title\":title,\n",
    "    \"link\":link,\n",
    "    \"body\":body,\n",
    "})\n",
    "\n",
    "df"
   ]
  },
  {
   "cell_type": "code",
   "execution_count": 113,
   "metadata": {},
   "outputs": [],
   "source": [
    "#close connection\n",
    "page.close()"
   ]
  }
 ],
 "metadata": {
  "kernelspec": {
   "display_name": "Python 3",
   "language": "python",
   "name": "python3"
  },
  "language_info": {
   "codemirror_mode": {
    "name": "ipython",
    "version": 3
   },
   "file_extension": ".py",
   "mimetype": "text/x-python",
   "name": "python",
   "nbconvert_exporter": "python",
   "pygments_lexer": "ipython3",
   "version": "3.5.6"
  }
 },
 "nbformat": 4,
 "nbformat_minor": 2
}
