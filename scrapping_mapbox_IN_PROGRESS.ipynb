{
 "cells": [
  {
   "cell_type": "code",
   "execution_count": 1,
   "metadata": {},
   "outputs": [],
   "source": [
    "from bs4 import BeautifulSoup\n",
    "import urllib.request "
   ]
  },
  {
   "cell_type": "code",
   "execution_count": 2,
   "metadata": {},
   "outputs": [],
   "source": [
    "url=\"https://docs.mapbox.com/android/navigation/overview/\"\n",
    "\n",
    "#set the page you want to open for parsing\n",
    "page = urllib.request.urlopen('https://docs.mapbox.com/android/navigation/overview/')\n",
    "\n",
    "#downloading the contents of the page\n",
    "raw_html=page.read()\n",
    "\n",
    "#creating a soup from the raw html\n",
    "html = BeautifulSoup(raw_html, 'html.parser')"
   ]
  },
  {
   "cell_type": "code",
   "execution_count": 3,
   "metadata": {},
   "outputs": [
    {
     "data": {
      "text/plain": [
       "<span class=\"color-gray-light ml6\"><svg class=\"events-none icon inline-block align-t\" focusable=\"false\" role=\"presentation\" style=\"width:18px;height:18px\"><use xlink:href=\"#icon-chevron-down\" xmlns:xlink=\"http://www.w3.org/1999/xlink\"></use></svg></span>"
      ]
     },
     "execution_count": 3,
     "metadata": {},
     "output_type": "execute_result"
    }
   ],
   "source": [
    "#title of the html page\n",
    "html.title\n",
    "\n",
    "#text in the page\n",
    "html.p\n",
    "\n",
    "#body of the page\n",
    "html.body\n",
    "\n",
    "#span of the page\n",
    "html.span"
   ]
  },
  {
   "cell_type": "markdown",
   "metadata": {},
   "source": [
    "you need to inspect the html page and figure out what tags are of interest "
   ]
  },
  {
   "cell_type": "code",
   "execution_count": 4,
   "metadata": {},
   "outputs": [
    {
     "name": "stdout",
     "output_type": "stream",
     "text": [
      "\n",
      "Heading 2\n",
      "\n",
      "Available SDKs\n",
      "Product capabilities\n",
      "Installation\n",
      "Prevent memory leaks\n",
      "Testing and development\n",
      "========================================\n",
      "Heading 3\n",
      "\n",
      "Navigation SDK\n",
      "Navigation UI SDK\n",
      "Replay a DirectionsRoute\n",
      "Turn on debug logging\n"
     ]
    }
   ],
   "source": [
    "#finding the class prose which contains all the text info\n",
    "content=html.find('div',{\"id\":\"docs-content\"})\n",
    "h2=[]\n",
    "\n",
    "#making a list of all heading, dont know why!\n",
    "print('\\nHeading 2\\n')\n",
    "for section in content.findAll('h2'):\n",
    "    print(section.text)\n",
    "    h2.append(section.text)\n",
    "print('='*40) \n",
    "\n",
    "#and sub headings too, again, dont know why!\n",
    "print('Heading 3\\n') \n",
    "for section in content.findAll('h3'):\n",
    "    print(section.text)\n",
    "    #print('='*40) "
   ]
  },
  {
   "cell_type": "code",
   "execution_count": 112,
   "metadata": {},
   "outputs": [
    {
     "name": "stdout",
     "output_type": "stream",
     "text": [
      "Title:  Available SDKs\n",
      "Link:  https://docs.mapbox.com/android/navigation/overview/#available-sdks\n",
      "Body:  There are two SDKs that can be used to integrate navigation into your Android application, the core Navigation SDK and the Navigation UI SDK:The core Navigation SDK is where the logic lives for generating routes, tracking progress, receiving instructions, and more. You can use this directly via the MapboxNavigation class or through the Navigation UI SDK.Built on top of the core Navigation SDK (meaning the Navigation SDK is included when you add the Navigation UI SDK as a dependency), the Navigation UI SDK consumes data from the core SDK and arranges it in default UI components that have various customization options. You can use this directly via the NavigationView and NavigationLauncher classes without touching the core MapboxNavigation class directly in your application's code.The core Navigation SDK and the Navigation UI SDK can be used together if you want to use a mixture of the Mapbox-provided UI components and your own custom UI fed data from the core Navigation SDK.\n",
      "========================================\n",
      "Title:  Product capabilities\n",
      "Link:  https://docs.mapbox.com/android/navigation/overview/#product-capabilities\n",
      "Body:  This documentation contains information for both the core Navigation SDK and the Navigation UI SDK across a variety of topics:Manage user locationUser location FundamentalsBuild route requestsRoute generation FundamentalsOffline routingCustom routesTrack progress along a routeRoute progress FundamentalsManeuver instructionsDevice notificationsOff-route detectionFaster-route detectionCustomize the visual experienceMap cameraLocalization and internationalizationMap and app stylingUser interaction\n",
      "========================================\n",
      "Title:  Installation\n",
      "Link:  https://docs.mapbox.com/android/navigation/overview/#installation\n",
      "Body:  You'll need to add the Navigation SDK or Navigation UI SDK as a dependency before developing your app.Using nightly builds and beta versionsYou can also use the nightly build/SNAPSHOT or the beta version if one is available. Find more information about how to do this inside the Navigation SDK's GitHub repository.\n",
      "========================================\n",
      "Title:  Prevent memory leaks\n",
      "Link:  https://docs.mapbox.com/android/navigation/overview/#prevent-memory-leaks\n",
      "Body:  Regardless of which SDK you are using, you should override the onDestroy lifecycle method, end the navigation session (if it's running), and use the MabpoxNavigation#onDestroy method inside your application's activity. Doing this prevents any memory leaks and ensures proper shutdown of the service.JavaKotlin@Overrideprotected void onDestroy() {super.onDestroy();// End the navigation sessionnavigation.onDestroy();}Copy\n",
      "========================================\n",
      "Title:  Testing and development\n",
      "Link:  https://docs.mapbox.com/android/navigation/overview/#testing-and-development\n",
      "Body:  There are a few methods that can be helpful when developing and testing your application.\n",
      "========================================\n"
     ]
    }
   ],
   "source": [
    "def get_link(link):\n",
    "    dirt,link=str(link).split(\"href=\\\"\")\n",
    "    link,dirt=link.split(\"\\\"\")\n",
    "    result=url+link\n",
    "    return result\n",
    "\n",
    "#class container, what i think has all the good stuff\n",
    "container = html.findAll('div',{\"class\":\"section section-h2 \"})\n",
    " \n",
    "for section in container:\n",
    "    #printing title of each section\n",
    "    print(\"Title: \",section.h2.string) \n",
    "    #finding the link assosciated with the section\n",
    "    link=get_link(section.a)\n",
    "    print('Link: ',link)\n",
    "    #finding body of that section\n",
    "    sub_section=section.findALL('div',{\"class\":\"section section-h3\"})\n",
    "    for sub_sub_section in sub_section:\n",
    "        print(sub_sub_section.)\n",
    "    print('='*40)"
   ]
  },
  {
   "cell_type": "code",
   "execution_count": 107,
   "metadata": {},
   "outputs": [
    {
     "data": {
      "text/html": [
       "<div>\n",
       "<style scoped>\n",
       "    .dataframe tbody tr th:only-of-type {\n",
       "        vertical-align: middle;\n",
       "    }\n",
       "\n",
       "    .dataframe tbody tr th {\n",
       "        vertical-align: top;\n",
       "    }\n",
       "\n",
       "    .dataframe thead th {\n",
       "        text-align: right;\n",
       "    }\n",
       "</style>\n",
       "<table border=\"1\" class=\"dataframe\">\n",
       "  <thead>\n",
       "    <tr style=\"text-align: right;\">\n",
       "      <th></th>\n",
       "      <th>body</th>\n",
       "      <th>link</th>\n",
       "      <th>title</th>\n",
       "    </tr>\n",
       "  </thead>\n",
       "  <tbody>\n",
       "    <tr>\n",
       "      <th>0</th>\n",
       "      <td>There are two SDKs that can be used to integra...</td>\n",
       "      <td>https://docs.mapbox.com/android/navigation/ove...</td>\n",
       "      <td>Available SDKs</td>\n",
       "    </tr>\n",
       "    <tr>\n",
       "      <th>1</th>\n",
       "      <td>This documentation contains information for bo...</td>\n",
       "      <td>https://docs.mapbox.com/android/navigation/ove...</td>\n",
       "      <td>Product capabilities</td>\n",
       "    </tr>\n",
       "    <tr>\n",
       "      <th>2</th>\n",
       "      <td>You'll need to add the Navigation SDK or Navig...</td>\n",
       "      <td>https://docs.mapbox.com/android/navigation/ove...</td>\n",
       "      <td>Installation</td>\n",
       "    </tr>\n",
       "    <tr>\n",
       "      <th>3</th>\n",
       "      <td>Regardless of which SDK you are using, you sho...</td>\n",
       "      <td>https://docs.mapbox.com/android/navigation/ove...</td>\n",
       "      <td>Prevent memory leaks</td>\n",
       "    </tr>\n",
       "    <tr>\n",
       "      <th>4</th>\n",
       "      <td>There are a few methods that can be helpful wh...</td>\n",
       "      <td>https://docs.mapbox.com/android/navigation/ove...</td>\n",
       "      <td>Testing and development</td>\n",
       "    </tr>\n",
       "  </tbody>\n",
       "</table>\n",
       "</div>"
      ],
      "text/plain": [
       "                                                body  \\\n",
       "0  There are two SDKs that can be used to integra...   \n",
       "1  This documentation contains information for bo...   \n",
       "2  You'll need to add the Navigation SDK or Navig...   \n",
       "3  Regardless of which SDK you are using, you sho...   \n",
       "4  There are a few methods that can be helpful wh...   \n",
       "\n",
       "                                                link                    title  \n",
       "0  https://docs.mapbox.com/android/navigation/ove...           Available SDKs  \n",
       "1  https://docs.mapbox.com/android/navigation/ove...     Product capabilities  \n",
       "2  https://docs.mapbox.com/android/navigation/ove...             Installation  \n",
       "3  https://docs.mapbox.com/android/navigation/ove...     Prevent memory leaks  \n",
       "4  https://docs.mapbox.com/android/navigation/ove...  Testing and development  "
      ]
     },
     "execution_count": 107,
     "metadata": {},
     "output_type": "execute_result"
    }
   ],
   "source": [
    "import pandas as pd\n",
    "#make csv file\n",
    "title=[]\n",
    "link=[]\n",
    "body=[]\n",
    "\n",
    "for section in container:\n",
    "    title.append(section.h2.string) \n",
    "    link.append(get_link(section.a))\n",
    "    body.append(section.find('div',{\"class\":\"section section-h3\"}).text)\n",
    "\n",
    "df=pd.DataFrame({\n",
    "    \"title\":title,\n",
    "    \"link\":link,\n",
    "    \"body\":body,\n",
    "})\n",
    "\n",
    "df"
   ]
  },
  {
   "cell_type": "code",
   "execution_count": 113,
   "metadata": {},
   "outputs": [],
   "source": [
    "#close connection\n",
    "page.close()"
   ]
  }
 ],
 "metadata": {
  "kernelspec": {
   "display_name": "Python 3",
   "language": "python",
   "name": "python3"
  },
  "language_info": {
   "codemirror_mode": {
    "name": "ipython",
    "version": 3
   },
   "file_extension": ".py",
   "mimetype": "text/x-python",
   "name": "python",
   "nbconvert_exporter": "python",
   "pygments_lexer": "ipython3",
   "version": "3.5.6"
  }
 },
 "nbformat": 4,
 "nbformat_minor": 2
}
