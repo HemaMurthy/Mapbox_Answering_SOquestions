{
 "cells": [
  {
   "cell_type": "code",
   "execution_count": 1,
   "metadata": {},
   "outputs": [],
   "source": [
    "from bs4 import BeautifulSoup\n",
    "import urllib.request "
   ]
  },
  {
   "cell_type": "code",
   "execution_count": 2,
   "metadata": {},
   "outputs": [],
   "source": [
    "url=\"https://docs.mapbox.com/android/navigation/overview/\"\n",
    "\n",
    "#set the page you want to open for parsing\n",
    "page = urllib.request.urlopen('https://docs.mapbox.com/android/navigation/overview/')\n",
    "\n",
    "#downloading the contents of the page\n",
    "raw_html=page.read()\n",
    "\n",
    "#creating a soup from the raw html\n",
    "html = BeautifulSoup(raw_html, 'html.parser')"
   ]
  },
  {
   "cell_type": "code",
   "execution_count": 3,
   "metadata": {},
   "outputs": [
    {
     "data": {
      "text/plain": [
       "<span class=\"color-gray-light ml6\"><svg class=\"events-none icon inline-block align-t\" focusable=\"false\" role=\"presentation\" style=\"width:18px;height:18px\"><use xlink:href=\"#icon-chevron-down\" xmlns:xlink=\"http://www.w3.org/1999/xlink\"></use></svg></span>"
      ]
     },
     "execution_count": 3,
     "metadata": {},
     "output_type": "execute_result"
    }
   ],
   "source": [
    "#title of the html page\n",
    "html.title\n",
    "\n",
    "#text in the page\n",
    "html.p\n",
    "\n",
    "#body of the page\n",
    "html.body\n",
    "\n",
    "#span of the page\n",
    "html.span"
   ]
  },
  {
   "cell_type": "markdown",
   "metadata": {},
   "source": [
    "you need to inspect the html page and figure out what tags are of interest "
   ]
  },
  {
   "cell_type": "code",
   "execution_count": 4,
   "metadata": {},
   "outputs": [
    {
     "name": "stdout",
     "output_type": "stream",
     "text": [
      "\n",
      "Heading 2\n",
      "\n",
      "Available SDKs\n",
      "Product capabilities\n",
      "Installation\n",
      "Prevent memory leaks\n",
      "Testing and development\n",
      "========================================\n",
      "Heading 3\n",
      "\n",
      "Navigation SDK\n",
      "Navigation UI SDK\n",
      "Replay a DirectionsRoute\n",
      "Turn on debug logging\n"
     ]
    }
   ],
   "source": [
    "#finding the class prose which contains all the text info\n",
    "content=html.find('div',{\"id\":\"docs-content\"})\n",
    "h2=[]\n",
    "\n",
    "#making a list of all heading, dont know why!\n",
    "print('\\nHeading 2\\n')\n",
    "for section in content.findAll('h2'):\n",
    "    print(section.text)\n",
    "    h2.append(section.text)\n",
    "print('='*40) \n",
    "\n",
    "#and sub headings too, again, dont know why!\n",
    "print('Heading 3\\n') \n",
    "for section in content.findAll('h3'):\n",
    "    print(section.text)\n",
    "    #print('='*40) "
   ]
  },
  {
   "cell_type": "code",
   "execution_count": null,
   "metadata": {},
   "outputs": [],
   "source": [
    "def check_for_sub_sub_section(section):\n",
    "    "
   ]
  },
  {
   "cell_type": "code",
   "execution_count": 32,
   "metadata": {},
   "outputs": [
    {
     "name": "stdout",
     "output_type": "stream",
     "text": [
      "Title:  Available SDKs\n",
      "Link:  https://docs.mapbox.com/android/navigation/overview/#available-sdks\n",
      "There are two SDKs that can be used to integrate navigation into your Android application, the core Navigation SDK and the Navigation UI SDK:The core Navigation SDK is where the logic lives for generating routes, tracking progress, receiving instructions, and more. You can use this directly via the MapboxNavigation class or through the Navigation UI SDK.Built on top of the core Navigation SDK (meaning the Navigation SDK is included when you add the Navigation UI SDK as a dependency), the Navigation UI SDK consumes data from the core SDK and arranges it in default UI components that have various customization options. You can use this directly via the NavigationView and NavigationLauncher classes without touching the core MapboxNavigation class directly in your application's code.The core Navigation SDK and the Navigation UI SDK can be used together if you want to use a mixture of the Mapbox-provided UI components and your own custom UI fed data from the core Navigation SDK.\n",
      "========================================\n",
      "Title:  Product capabilities\n",
      "Link:  https://docs.mapbox.com/android/navigation/overview/#product-capabilities\n",
      "This documentation contains information for both the core Navigation SDK and the Navigation UI SDK across a variety of topics:Manage user locationUser location FundamentalsBuild route requestsRoute generation FundamentalsOffline routingCustom routesTrack progress along a routeRoute progress FundamentalsManeuver instructionsDevice notificationsOff-route detectionFaster-route detectionCustomize the visual experienceMap cameraLocalization and internationalizationMap and app stylingUser interaction\n",
      "========================================\n",
      "Title:  Installation\n",
      "Link:  https://docs.mapbox.com/android/navigation/overview/#installation\n",
      "You'll need to add the Navigation SDK or Navigation UI SDK as a dependency before developing your app.Using nightly builds and beta versionsYou can also use the nightly build/SNAPSHOT or the beta version if one is available. Find more information about how to do this inside the Navigation SDK's GitHub repository.\n",
      "========================================\n",
      "Title:  Prevent memory leaks\n",
      "Link:  https://docs.mapbox.com/android/navigation/overview/#prevent-memory-leaks\n",
      "Regardless of which SDK you are using, you should override the onDestroy lifecycle method, end the navigation session (if it's running), and use the MabpoxNavigation#onDestroy method inside your application's activity. Doing this prevents any memory leaks and ensures proper shutdown of the service.JavaKotlin@Overrideprotected void onDestroy() {super.onDestroy();// End the navigation sessionnavigation.onDestroy();}Copy\n",
      "========================================\n",
      "Title:  Testing and development\n",
      "Link:  https://docs.mapbox.com/android/navigation/overview/#testing-and-development\n",
      "There are a few methods that can be helpful when developing and testing your application.\n",
      "========================================\n"
     ]
    }
   ],
   "source": [
    "def get_link(link):\n",
    "    dirt,link=str(link).split(\"href=\\\"\")\n",
    "    link,dirt=link.split(\"\\\"\")\n",
    "    result=url+link\n",
    "    return result\n",
    "\n",
    "#class container, what i think has all the good stuff\n",
    "container = html.findAll('div',{\"class\":\"section section-h2 \"})\n",
    " \n",
    "for section in container:\n",
    "    #printing title of each section\n",
    "    print(\"Title: \",section.h2.text) \n",
    "    #finding the link assosciated with the section\n",
    "    link=get_link(section.a)\n",
    "    print('Link: ',link)\n",
    "    #finding body of that section\n",
    "    sub_section=section.find('div',{\"class\":\"section section-h3\"})\n",
    "    print(sub_section.text)\n",
    "    #check_for_sub_sub_section\n",
    "    print('='*40)\n"
   ]
  },
  {
   "cell_type": "code",
   "execution_count": 33,
   "metadata": {},
   "outputs": [
    {
     "name": "stdout",
     "output_type": "stream",
     "text": [
      "Title:  Navigation SDK\n",
      "Link:  https://docs.mapbox.com/android/navigation/overview/#navigation-sdk\n",
      "Learn how to install the core Navigation SDK and request your first route using NavigationRoute.Add the dependencyAdd the core Navigation SDK only when not using the Navigation UI SDKIf you're using the Navigation UI SDK, you don't have to declare the Mapbox Navigation SDK as well. If you only declare the Navigation UI SDK in your project's Gradle file, the Mapbox Navigation SDK will automatically be included.Start Android Studio.Open up your app's build.gradle file.Make sure that your project's minSdkVersion is at API 14 or higher.Under dependencies, add a new build rule for the latest mapbox-android-navigation.Click the Sync Project with Gradle Files near the toolbar in Studio.allprojects {\n",
      "    repositories {\n",
      "        ...\n",
      "        maven { url 'https://mapbox.bintray.com/mapbox' }\n",
      "    }\n",
      "}\n",
      "\n",
      "dependencies {\n",
      "  implementation 'com.mapbox.mapboxsdk:mapbox-android-navigation:0.42.1'\n",
      "}\n",
      "Get an access tokenIf you don't have a Mapbox account: sign up and navigate to your Account page. For quick development and testing, you can use your default public token. Later in development, you may want to create an access token specifically for this project. Find more details on managing access tokens in our guide on how access tokens work.After you've added the Navigation SDK as a dependency inside your Android project, open the string.xml file, create a new string, and paste the access token. Then, pass this into the Navigation SDK.JavaKotlin@Overrideprotected void onCreate(Bundle savedInstanceState) {super.onCreate(savedInstanceState); MapboxNavigation navigation = new MapboxNavigation(context, MAPBOX_ACCESS_TOKEN); ... }CopySet up permissionsThe Navigation SDK makes use of the Android manifest merge feature to reduce the need to include any Navigation SDK requirements inside your application's manifest file. You'll need to include either the fine or coarse location permission for navigation to work properly. The user location permission should also be checked during runtime using the PermissionsManager if your app targets the Android API 23 or higher.For optimal navigation results, use the fine location permission, which gives a more precise fix on the user's current location.<uses-permission android:name=\"android.permission.ACCESS_FINE_LOCATION\" />\n",
      "Request a routeNow that you have created a way for the MapboxNavigation object to get the user's location, you can create a route using NavigationRoute. Pass in an origin, destination, and a callback to handle the response. Inside the onResponse, you can draw the directions route on a map or show time and distance using the full directions response.More about route generationFind more detailed information about requesting routes in the Route generation guide.JavaKotlin// From Mapbox to The White HousePoint origin = Point.fromLngLat(-77.03613, 38.90992);Point destination = Point.fromLngLat(-77.0365, 38.8977); NavigationRoute.builder(context)\t.accessToken(MAPBOX_ACCESS_TOKEN)\t.origin(origin)\t.destination(destination)\t.build()\t.getRoute(new Callback<DirectionsResponse>() {\t\t@Override\t\tpublic void onResponse(Call<DirectionsResponse> call, Response<DirectionsResponse> response) { \t\t} \t\t@Override\t\tpublic void onFailure(Call<DirectionsResponse> call, Throwable t) { \t\t}\t});Copy\n",
      "========================================\n",
      "Title:  Navigation UI SDK\n",
      "Link:  https://docs.mapbox.com/android/navigation/overview/#navigation-ui-sdk\n",
      "The Navigation UI SDK is the fastest way to get a navigation UI into your application.Add the dependencyThis dependency is different from the one used to compile the core Mapbox Navigation SDK, but it will still include everything from the core Mapbox Navigation SDK. Maps and Navigation SDKs includedIf you're using the Navigation UI SDK, we recommend you don't include an explicit version of the Maps SDK or Navigation SDK in your build.gradle file. The Mapbox Navigation UI SDK already includes the core Mapbox Navigation SDK and Mapbox Maps SDK for Android. Gradle automatically takes care of adding the right dependencies. The Navigation UI SDK will include the Navigation and Maps SDK versions that have been tested to provide the best user and developer experience for navigation experiences. Manually adding different versions can lead to unexpected behavior.repositories {\n",
      "  mavenCentral()\n",
      "  maven { url 'https://mapbox.bintray.com/mapbox' }\n",
      "}\n",
      "\n",
      "dependencies {\n",
      "  implementation 'com.mapbox.mapboxsdk:mapbox-android-navigation-ui:0.42.1'\n",
      "}\n",
      "Launch the Navigation UIWith either a DirectionsRoute from NavigationRoute (see Request a route above) or two Point objects (origin and destination), you can launch the UI with NavigationLauncher from within your Activity.JavaKotlin// Route fetched from NavigationRouteDirectionsRoute route = ... boolean simulateRoute = true; // Create a NavigationLauncherOptions object to package everything togetherNavigationLauncherOptions options = NavigationLauncherOptions.builder().directionsRoute(route).shouldSimulateRoute(simulateRoute).build(); // Call this method with Context from within an ActivityNavigationLauncher.startNavigation(this, options);Copy\n",
      "========================================\n",
      "Title:  Replay a DirectionsRoute\n",
      "Link:  https://docs.mapbox.com/android/navigation/overview/#replay-a-directionsroute\n",
      "The Navigation SDK includes a ReplayRouteLocationEngine, which allows you to replay a given DirectionsRoute (mainly for testing, so you don't always have to code in a car). After retrieving a DirectionsRoute, you can create a replay engine and pass it to MapboxNavigation.JavaKotlinMapboxNavigation navigation = ...DirectionsRoute routeToReplay = ... ReplayRouteLocationEngine replayEngine = new ReplayRouteLocationEngine();replayEngine.assign(routeToReplay); navigation.setLocationEngine(replayEngine);navigation.startNavigation(routeToReplay);Copy\n",
      "========================================\n",
      "Title:  Turn on debug logging\n",
      "Link:  https://docs.mapbox.com/android/navigation/overview/#turn-on-debug-logging\n",
      "Turn on debug logging using MapboxNavigationOptions:JavaKotlinMapboxNavigationOptions options = MapboxNavigationOptions.builder().isDebugLoggingEnabled(true).build(); MapboxNavigation mapboxNavigation = new MapboxNavigation(this, accessToken, options);Copy\n",
      "========================================\n"
     ]
    }
   ],
   "source": [
    "tiny_container = html.findAll('div',{\"class\":\"section section-h3 \"})\n",
    " \n",
    "for section in tiny_container:\n",
    "    #printing title of each section\n",
    "    print(\"Title: \",section.h3.text) \n",
    "    #finding the link assosciated with the section\n",
    "    link=get_link(section.a)\n",
    "    print('Link: ',link)\n",
    "    #finding body of that section\n",
    "    sub_section=section.find('div',{\"class\":\"body\"})\n",
    "    print(sub_section.text)\n",
    "    #check_for_sub_sub_section\n",
    "    print('='*40)"
   ]
  },
  {
   "cell_type": "code",
   "execution_count": 35,
   "metadata": {},
   "outputs": [
    {
     "data": {
      "text/html": [
       "<div>\n",
       "<style scoped>\n",
       "    .dataframe tbody tr th:only-of-type {\n",
       "        vertical-align: middle;\n",
       "    }\n",
       "\n",
       "    .dataframe tbody tr th {\n",
       "        vertical-align: top;\n",
       "    }\n",
       "\n",
       "    .dataframe thead th {\n",
       "        text-align: right;\n",
       "    }\n",
       "</style>\n",
       "<table border=\"1\" class=\"dataframe\">\n",
       "  <thead>\n",
       "    <tr style=\"text-align: right;\">\n",
       "      <th></th>\n",
       "      <th>body</th>\n",
       "      <th>link</th>\n",
       "      <th>title</th>\n",
       "    </tr>\n",
       "  </thead>\n",
       "  <tbody>\n",
       "    <tr>\n",
       "      <th>0</th>\n",
       "      <td>There are two SDKs that can be used to integra...</td>\n",
       "      <td>https://docs.mapbox.com/android/navigation/ove...</td>\n",
       "      <td>Available SDKs</td>\n",
       "    </tr>\n",
       "    <tr>\n",
       "      <th>1</th>\n",
       "      <td>This documentation contains information for bo...</td>\n",
       "      <td>https://docs.mapbox.com/android/navigation/ove...</td>\n",
       "      <td>Product capabilities</td>\n",
       "    </tr>\n",
       "    <tr>\n",
       "      <th>2</th>\n",
       "      <td>You'll need to add the Navigation SDK or Navig...</td>\n",
       "      <td>https://docs.mapbox.com/android/navigation/ove...</td>\n",
       "      <td>Installation</td>\n",
       "    </tr>\n",
       "    <tr>\n",
       "      <th>3</th>\n",
       "      <td>Regardless of which SDK you are using, you sho...</td>\n",
       "      <td>https://docs.mapbox.com/android/navigation/ove...</td>\n",
       "      <td>Prevent memory leaks</td>\n",
       "    </tr>\n",
       "    <tr>\n",
       "      <th>4</th>\n",
       "      <td>There are a few methods that can be helpful wh...</td>\n",
       "      <td>https://docs.mapbox.com/android/navigation/ove...</td>\n",
       "      <td>Testing and development</td>\n",
       "    </tr>\n",
       "    <tr>\n",
       "      <th>5</th>\n",
       "      <td>Learn how to install the core Navigation SDK a...</td>\n",
       "      <td>https://docs.mapbox.com/android/navigation/ove...</td>\n",
       "      <td>Navigation SDK</td>\n",
       "    </tr>\n",
       "    <tr>\n",
       "      <th>6</th>\n",
       "      <td>The Navigation UI SDK is the fastest way to ge...</td>\n",
       "      <td>https://docs.mapbox.com/android/navigation/ove...</td>\n",
       "      <td>Navigation UI SDK</td>\n",
       "    </tr>\n",
       "    <tr>\n",
       "      <th>7</th>\n",
       "      <td>The Navigation SDK includes a ReplayRouteLocat...</td>\n",
       "      <td>https://docs.mapbox.com/android/navigation/ove...</td>\n",
       "      <td>Replay a DirectionsRoute</td>\n",
       "    </tr>\n",
       "    <tr>\n",
       "      <th>8</th>\n",
       "      <td>Turn on debug logging using MapboxNavigationOp...</td>\n",
       "      <td>https://docs.mapbox.com/android/navigation/ove...</td>\n",
       "      <td>Turn on debug logging</td>\n",
       "    </tr>\n",
       "  </tbody>\n",
       "</table>\n",
       "</div>"
      ],
      "text/plain": [
       "                                                body  \\\n",
       "0  There are two SDKs that can be used to integra...   \n",
       "1  This documentation contains information for bo...   \n",
       "2  You'll need to add the Navigation SDK or Navig...   \n",
       "3  Regardless of which SDK you are using, you sho...   \n",
       "4  There are a few methods that can be helpful wh...   \n",
       "5  Learn how to install the core Navigation SDK a...   \n",
       "6  The Navigation UI SDK is the fastest way to ge...   \n",
       "7  The Navigation SDK includes a ReplayRouteLocat...   \n",
       "8  Turn on debug logging using MapboxNavigationOp...   \n",
       "\n",
       "                                                link                     title  \n",
       "0  https://docs.mapbox.com/android/navigation/ove...            Available SDKs  \n",
       "1  https://docs.mapbox.com/android/navigation/ove...      Product capabilities  \n",
       "2  https://docs.mapbox.com/android/navigation/ove...              Installation  \n",
       "3  https://docs.mapbox.com/android/navigation/ove...      Prevent memory leaks  \n",
       "4  https://docs.mapbox.com/android/navigation/ove...   Testing and development  \n",
       "5  https://docs.mapbox.com/android/navigation/ove...            Navigation SDK  \n",
       "6  https://docs.mapbox.com/android/navigation/ove...         Navigation UI SDK  \n",
       "7  https://docs.mapbox.com/android/navigation/ove...  Replay a DirectionsRoute  \n",
       "8  https://docs.mapbox.com/android/navigation/ove...     Turn on debug logging  "
      ]
     },
     "execution_count": 35,
     "metadata": {},
     "output_type": "execute_result"
    }
   ],
   "source": [
    "import pandas as pd\n",
    "#make csv file\n",
    "title=[]\n",
    "link=[]\n",
    "body=[]\n",
    "\n",
    "for section in container:\n",
    "    title.append(section.h2.string) \n",
    "    link.append(get_link(section.a))\n",
    "    body.append(section.find('div',{\"class\":\"section section-h3\"}).text)\n",
    "\n",
    "tiny_container = html.findAll('div',{\"class\":\"section section-h3 \"})\n",
    " \n",
    "for section in tiny_container:\n",
    "    title.append(section.h3.text) \n",
    "    link.append(get_link(section.a))\n",
    "    sub_section=section.find('div',{\"class\":\"body\"})\n",
    "    body.append(sub_section.text)\n",
    " \n",
    "df=pd.DataFrame({\n",
    "    \"title\":title,\n",
    "    \"link\":link,\n",
    "    \"body\":body,\n",
    "})\n",
    "\n",
    "df"
   ]
  },
  {
   "cell_type": "code",
   "execution_count": 36,
   "metadata": {},
   "outputs": [],
   "source": [
    "#close connection\n",
    "page.close()"
   ]
  }
 ],
 "metadata": {
  "kernelspec": {
   "display_name": "Python 3",
   "language": "python",
   "name": "python3"
  },
  "language_info": {
   "codemirror_mode": {
    "name": "ipython",
    "version": 3
   },
   "file_extension": ".py",
   "mimetype": "text/x-python",
   "name": "python",
   "nbconvert_exporter": "python",
   "pygments_lexer": "ipython3",
   "version": "3.5.6"
  }
 },
 "nbformat": 4,
 "nbformat_minor": 2
}
